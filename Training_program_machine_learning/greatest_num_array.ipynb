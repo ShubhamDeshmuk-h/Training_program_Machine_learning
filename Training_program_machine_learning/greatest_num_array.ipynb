{
 "cells": [
  {
   "cell_type": "code",
   "execution_count": 92,
   "id": "1a0ec9b0-e2e8-43dc-a694-9685c1190979",
   "metadata": {},
   "outputs": [
    {
     "name": "stdin",
     "output_type": "stream",
     "text": [
      " 90 2 5 60 30 89 74\n"
     ]
    }
   ],
   "source": [
    "input_string = input()\n",
    "user_list = input_string.split()"
   ]
  },
  {
   "cell_type": "code",
   "execution_count": 94,
   "id": "eea0a241-b9ae-418f-a80c-eebde245875b",
   "metadata": {},
   "outputs": [],
   "source": [
    "n = len(user_list)"
   ]
  },
  {
   "cell_type": "code",
   "execution_count": null,
   "id": "357906f4-e13c-44b1-80b8-11d132a995e6",
   "metadata": {},
   "outputs": [],
   "source": []
  },
  {
   "cell_type": "code",
   "execution_count": 97,
   "id": "80f53b15-04de-4498-9cb1-0b9b8850ae8a",
   "metadata": {},
   "outputs": [],
   "source": [
    "for i in range(n):\n",
    "    for j in range(n):\n",
    "        if user_list[i] > user_list[j]:\n",
    "            temp = user_list[i]\n",
    "            user_list[i] = user_list[j]\n",
    "            user_list[j] = temp\n",
    "        "
   ]
  },
  {
   "cell_type": "code",
   "execution_count": 99,
   "id": "81d326d7-132b-4cda-a660-d18cdf323a3e",
   "metadata": {},
   "outputs": [
    {
     "name": "stdout",
     "output_type": "stream",
     "text": [
      "90\n"
     ]
    }
   ],
   "source": [
    "print(user_list[0])"
   ]
  },
  {
   "cell_type": "code",
   "execution_count": null,
   "id": "65c8c201-62e2-4b33-8225-64744618bc40",
   "metadata": {},
   "outputs": [],
   "source": []
  }
 ],
 "metadata": {
  "kernelspec": {
   "display_name": "Python 3 (ipykernel)",
   "language": "python",
   "name": "python3"
  },
  "language_info": {
   "codemirror_mode": {
    "name": "ipython",
    "version": 3
   },
   "file_extension": ".py",
   "mimetype": "text/x-python",
   "name": "python",
   "nbconvert_exporter": "python",
   "pygments_lexer": "ipython3",
   "version": "3.12.4"
  }
 },
 "nbformat": 4,
 "nbformat_minor": 5
}
