{
 "cells": [
  {
   "cell_type": "code",
   "execution_count": 1,
   "id": "1f4fefa4-4a61-4f83-8d29-98c3aebf0c90",
   "metadata": {},
   "outputs": [],
   "source": [
    "#mergin 2 pdf "
   ]
  },
  {
   "cell_type": "code",
   "execution_count": 5,
   "id": "54b9cc00-9d32-41be-9fd6-ea6ce7a71049",
   "metadata": {},
   "outputs": [
    {
     "name": "stdout",
     "output_type": "stream",
     "text": [
      "Collecting pyPDF2\n",
      "  Using cached pypdf2-3.0.1-py3-none-any.whl.metadata (6.8 kB)\n",
      "Using cached pypdf2-3.0.1-py3-none-any.whl (232 kB)\n",
      "Installing collected packages: pyPDF2\n",
      "Successfully installed pyPDF2-3.0.1\n"
     ]
    }
   ],
   "source": [
    "!pip install pyPDF2"
   ]
  },
  {
   "cell_type": "code",
   "execution_count": 27,
   "id": "c781a4aa-9dda-4f81-a51f-eb4245528c3b",
   "metadata": {},
   "outputs": [
    {
     "ename": "ModuleNotFoundError",
     "evalue": "No module named 'pyPDF2'",
     "output_type": "error",
     "traceback": [
      "\u001b[1;31m---------------------------------------------------------------------------\u001b[0m",
      "\u001b[1;31mModuleNotFoundError\u001b[0m                       Traceback (most recent call last)",
      "Cell \u001b[1;32mIn[27], line 1\u001b[0m\n\u001b[1;32m----> 1\u001b[0m \u001b[38;5;28;01mimport\u001b[39;00m \u001b[38;5;21;01mpyPDF2\u001b[39;00m\n",
      "\u001b[1;31mModuleNotFoundError\u001b[0m: No module named 'pyPDF2'"
     ]
    }
   ],
   "source": [
    "import pyPDF2\n"
   ]
  },
  {
   "cell_type": "code",
   "execution_count": 17,
   "id": "5ebe8f4d-e557-4376-b8c2-47ab355a49f9",
   "metadata": {},
   "outputs": [],
   "source": [
    "def merger_pdf(pdf_list , output_path):\n",
    "    pdf_writer = PyPDF2.PdfWriter()\n",
    "    for pdf in pdf_list:\n",
    "        pdf_reader = PyPDF2.PdfREader(pdf_list)\n",
    "        for page_num in range(len(pdf_reader.pages)):\n",
    "            pdf_writer.add_page(pdf_reader.pages[page_num])\n",
    "    with open(output_path,'wb') as out:\n",
    "        pdf_writer.write(out)\n",
    "    print(f\"Merged PDF saved as (output_path)\")\n",
    "\n",
    "\n"
   ]
  },
  {
   "cell_type": "code",
   "execution_count": 25,
   "id": "84497141-78ae-40d1-accb-9dac8c2b9526",
   "metadata": {},
   "outputs": [
    {
     "ename": "NameError",
     "evalue": "name 'PyPDF2' is not defined",
     "output_type": "error",
     "traceback": [
      "\u001b[1;31m---------------------------------------------------------------------------\u001b[0m",
      "\u001b[1;31mNameError\u001b[0m                                 Traceback (most recent call last)",
      "Cell \u001b[1;32mIn[25], line 1\u001b[0m\n\u001b[1;32m----> 1\u001b[0m merger_pdf([\u001b[38;5;124m'\u001b[39m\u001b[38;5;124mpage 1.pdf\u001b[39m\u001b[38;5;124m'\u001b[39m,\u001b[38;5;124m'\u001b[39m\u001b[38;5;124mpage 2.pdf\u001b[39m\u001b[38;5;124m'\u001b[39m,\u001b[38;5;124m'\u001b[39m\u001b[38;5;124mpage 3.pdf\u001b[39m\u001b[38;5;124m'\u001b[39m],\u001b[38;5;124m'\u001b[39m\u001b[38;5;124mmerged.pdf\u001b[39m\u001b[38;5;124m'\u001b[39m)\n",
      "Cell \u001b[1;32mIn[17], line 2\u001b[0m, in \u001b[0;36mmerger_pdf\u001b[1;34m(pdf_list, output_path)\u001b[0m\n\u001b[0;32m      1\u001b[0m \u001b[38;5;28;01mdef\u001b[39;00m \u001b[38;5;21mmerger_pdf\u001b[39m(pdf_list , output_path):\n\u001b[1;32m----> 2\u001b[0m     pdf_writer \u001b[38;5;241m=\u001b[39m PyPDF2\u001b[38;5;241m.\u001b[39mPdfWriter()\n\u001b[0;32m      3\u001b[0m     \u001b[38;5;28;01mfor\u001b[39;00m pdf \u001b[38;5;129;01min\u001b[39;00m pdf_list:\n\u001b[0;32m      4\u001b[0m         pdf_reader \u001b[38;5;241m=\u001b[39m PyPDF2\u001b[38;5;241m.\u001b[39mPdfREader(pdf_list)\n",
      "\u001b[1;31mNameError\u001b[0m: name 'PyPDF2' is not defined"
     ]
    }
   ],
   "source": [
    "merger_pdf(['page 1.pdf','page 2.pdf','page 3.pdf'],'merged.pdf')"
   ]
  },
  {
   "cell_type": "code",
   "execution_count": null,
   "id": "a365c7fe-31fb-4539-be28-cd6469bf07a4",
   "metadata": {},
   "outputs": [],
   "source": []
  }
 ],
 "metadata": {
  "kernelspec": {
   "display_name": "Python 3 (ipykernel)",
   "language": "python",
   "name": "python3"
  },
  "language_info": {
   "codemirror_mode": {
    "name": "ipython",
    "version": 3
   },
   "file_extension": ".py",
   "mimetype": "text/x-python",
   "name": "python",
   "nbconvert_exporter": "python",
   "pygments_lexer": "ipython3",
   "version": "3.12.4"
  }
 },
 "nbformat": 4,
 "nbformat_minor": 5
}
